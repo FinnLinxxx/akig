{
 "cells": [
  {
   "cell_type": "code",
   "execution_count": 1,
   "metadata": {},
   "outputs": [],
   "source": [
    "import sys\n",
    "sys.path.append(r'/home/tomas/Workspace/geo-adjust')\n",
    "sys.path.append(r'/home/tomas/Workspace/geo-utils')\n",
    "sys.path.append(r'/home/tomas/Workspace/forgetthebuble2.0/')"
   ]
  },
  {
   "cell_type": "code",
   "execution_count": 2,
   "metadata": {},
   "outputs": [],
   "source": [
    "import sympy as sp\n",
    "sp.init_printing()\n",
    "\n",
    "from numpy import array, eye, pi, mean, diag, hstack\n",
    "\n",
    "from geo_adjust.config import GHModelConfig\n",
    "from geo_adjust.gh import GHAdjust\n",
    "\n",
    "from dev.ipy_utils import show_matrix\n",
    "\n",
    "from calibration.scheme import get_real_scheme\n",
    "from scripts.calibrate_imu_2 import simulate_obs"
   ]
  },
  {
   "cell_type": "markdown",
   "metadata": {},
   "source": [
    "# Circle adjustment GH\n",
    "\n",
    "First create a GH Model **Config**:"
   ]
  },
  {
   "cell_type": "code",
   "execution_count": 3,
   "metadata": {},
   "outputs": [],
   "source": [
    "gh_config = GHModelConfig()"
   ]
  },
  {
   "cell_type": "markdown",
   "metadata": {},
   "source": [
    "Symbols for observations and parameters:"
   ]
  },
  {
   "cell_type": "code",
   "execution_count": 4,
   "metadata": {},
   "outputs": [],
   "source": [
    "# observations (l)\n",
    "y, x = sp.symbols('y x')\n",
    "# parameters (x)\n",
    "xm, ym, r = sp.symbols('xm ym r')"
   ]
  },
  {
   "cell_type": "markdown",
   "metadata": {},
   "source": [
    "The circle model itself of $\\varphi (l, x) = 0$:"
   ]
  },
  {
   "cell_type": "code",
   "execution_count": 5,
   "metadata": {},
   "outputs": [],
   "source": [
    "# the model\n",
    "phi = sp.Matrix([sp.sqrt((x - xm) ** 2 + (y - ym) ** 2) - r])"
   ]
  },
  {
   "cell_type": "code",
   "execution_count": 6,
   "metadata": {},
   "outputs": [
    {
     "data": {
      "text/latex": [
       "$$\\left[\\begin{matrix}- r + \\sqrt{\\left(x - xm\\right)^{2} + \\left(y - ym\\right)^{2}}\\end{matrix}\\right]$$"
      ],
      "text/plain": [
       "⎡        _______________________⎤\n",
       "⎢       ╱         2           2 ⎥\n",
       "⎣-r + ╲╱  (x - xm)  + (y - ym)  ⎦"
      ]
     },
     "execution_count": 6,
     "metadata": {},
     "output_type": "execute_result"
    }
   ],
   "source": [
    "phi"
   ]
  },
  {
   "cell_type": "markdown",
   "metadata": {},
   "source": [
    "Let the toolbox do the rest of the work:"
   ]
  },
  {
   "cell_type": "code",
   "execution_count": 7,
   "metadata": {},
   "outputs": [],
   "source": [
    "gh_config.add_model_autodiff(phi, (ym, xm, r), (y, x))"
   ]
  },
  {
   "cell_type": "markdown",
   "metadata": {},
   "source": [
    "The config is ready, let's create a **Solver**:"
   ]
  },
  {
   "cell_type": "code",
   "execution_count": 8,
   "metadata": {},
   "outputs": [],
   "source": [
    "solver = GHAdjust(gh_config)"
   ]
  },
  {
   "cell_type": "markdown",
   "metadata": {},
   "source": [
    "Initial parameters..."
   ]
  },
  {
   "cell_type": "code",
   "execution_count": 9,
   "metadata": {},
   "outputs": [],
   "source": [
    "# add initial approximations\n",
    "solver.set_initial_params([120., 85., 40])"
   ]
  },
  {
   "cell_type": "markdown",
   "metadata": {},
   "source": [
    "...and observation data."
   ]
  },
  {
   "cell_type": "code",
   "execution_count": 10,
   "metadata": {},
   "outputs": [],
   "source": [
    "points = array([[164.595, 73.414],\n",
    "                [159.396, 62.563],\n",
    "                [136.455, 45.842],\n",
    "                [112.648, 46.136],\n",
    "                [85.822, 71.995],\n",
    "                [84.701, 95.772],\n",
    "                [89.246, 106.901],\n",
    "                [113.501, 125.639],\n",
    "                [137.304, 125.374],\n",
    "                [164.847, 97.226]])\n",
    "\n",
    "# add data\n",
    "solver.add_data(points)"
   ]
  },
  {
   "cell_type": "markdown",
   "metadata": {},
   "source": [
    "Observation data must be of shape `nx2` since two observations occur in one equation.\n",
    "The added data can be accesed through the solver:"
   ]
  },
  {
   "cell_type": "code",
   "execution_count": 43,
   "metadata": {},
   "outputs": [
    {
     "data": {
      "image/png": "[encoded data removed]",
      "text/latex": [
       "$$\\left ( 10, \\quad 2\\right )$$"
      ],
      "text/plain": [
       "(10, 2)"
      ]
     },
     "execution_count": 43,
     "metadata": {},
     "output_type": "execute_result"
    }
   ],
   "source": [
    "solver._l_obs.shape"
   ]
  },
  {
   "cell_type": "markdown",
   "metadata": {},
   "source": [
    "Solving the optimization problem is easy and returns the **Result** as an object of type `GHResult`:"
   ]
  },
  {
   "cell_type": "code",
   "execution_count": 12,
   "metadata": {},
   "outputs": [
    {
     "data": {
      "text/plain": [
       "geo_adjust.result.GHResult"
      ]
     },
     "execution_count": 12,
     "metadata": {},
     "output_type": "execute_result"
    }
   ],
   "source": [
    "result = solver.solve()\n",
    "type(result)"
   ]
  },
  {
   "cell_type": "markdown",
   "metadata": {},
   "source": [
    "All the interesting data can now be accessed through this result object:"
   ]
  },
  {
   "cell_type": "code",
   "execution_count": 13,
   "metadata": {},
   "outputs": [
    {
     "name": "stdout",
     "output_type": "stream",
     "text": [
      "Parameters:  [124.97106051  85.74919574  41.50283075]\n",
      "Parameter std dev:  [0.00582104 0.00634012 0.00423214]\n"
     ]
    }
   ],
   "source": [
    "print('Parameters: ', result.x)\n",
    "print('Parameter std dev: ', result.sigma_x)"
   ]
  },
  {
   "cell_type": "markdown",
   "metadata": {},
   "source": [
    "More sophisticated information can be accessed through the properties \n",
    "* `model`\n",
    "* `parameters`\n",
    "* `observations`"
   ]
  },
  {
   "cell_type": "code",
   "execution_count": 14,
   "metadata": {},
   "outputs": [
    {
     "name": "stdout",
     "output_type": "stream",
     "text": [
      "\n",
      "======================================================\n",
      " Adjustment Model \n",
      "======================================================\n",
      " - Adjustment Model: \t\t  GH  \n",
      "              (Gauss-Helmert-Model)\n",
      " - Observations ( 2): \t  y, x\n",
      "    └ Total #:   20\n",
      "\n",
      " - Parameters   ( 3): \t  ym, xm, r\n",
      "\n",
      " - Redundancy: \t\t\t\t     7\n",
      "    ├ # of Parameters: \t\t     3\n",
      "    ├ # of Observations: \t    20\n",
      "    └ # of Equations: \t\t    10\n",
      "\n",
      "------------------------------------------------------\n",
      " - Model:\n",
      "    ├ Auto Differentiation:\t  [ OK]\n",
      "    └ Phi(x,l) = 0:\n",
      "        ⎡        _______________________⎤\n",
      "        ⎢       ╱         2           2 ⎥\n",
      "        ⎣-r + ╲╱  (x - xm)  + (y - ym)  ⎦\n",
      "\n",
      "\n",
      "======================================================\n",
      "\n"
     ]
    }
   ],
   "source": [
    "result.model.print_info()"
   ]
  },
  {
   "cell_type": "code",
   "execution_count": 15,
   "metadata": {},
   "outputs": [
    {
     "name": "stdout",
     "output_type": "stream",
     "text": [
      "\n",
      "======================================================\n",
      " Result Summary \n",
      "======================================================\n",
      " - Convergence: \t\t\t\t  [ OK]\n",
      "    ├ # Iterations: \t\t\t     5\n",
      "    └ Criterium: \t\t\t\t\t  1.000e-12\n",
      " - Hauptprobe: \t\t\t\t  [ OK]\n",
      "    └ Max Eps: \t\t\t\t\t  1.421e-14\n",
      " - Globaltest: \t\t\t\t  [NOK]\n",
      "    ├ Test: \t\t\t\t\t\t  eq \n",
      "    ├ Var Prio: \t\t\t\t\t  1.000\n",
      "    ├ Var Post: \t\t\t\t\t  0.000\n",
      "    ├ Ratio:    \t\t\t\t\t  0.000\n",
      "    ├ Alpha: \t\t\t\t\t\t  0.100\n",
      "    └ Testquantity: \t\t\t\t  0.310 < 0.000 < 2.010\n",
      " - Residuals:\n",
      "    ├ SSE (vTv):                0.001\n",
      "    ├ MSE:                      0.000\n",
      "    ├ RMSE:                     0.008\n",
      "    ├ WSSE (vTPv):              0.001\n",
      "    ├ WMSE:                     0.000\n",
      "    └ WRMSE:                    0.000\n",
      "\n",
      "======================================================\n",
      "\n"
     ]
    }
   ],
   "source": [
    "result.model.print_summary()"
   ]
  },
  {
   "cell_type": "markdown",
   "metadata": {},
   "source": [
    "One can see that the combatibility test (Globaltest) fails.\n",
    "This is because we did not supply any stochastic model apriori.\n",
    "\n",
    "Let's check the observations covariance information a posteriori:"
   ]
  },
  {
   "cell_type": "code",
   "execution_count": 16,
   "metadata": {},
   "outputs": [
    {
     "data": {
      "text/html": [
       "<div>\n",
       "<style scoped>\n",
       "    .dataframe tbody tr th:only-of-type {\n",
       "        vertical-align: middle;\n",
       "    }\n",
       "\n",
       "    .dataframe tbody tr th {\n",
       "        vertical-align: top;\n",
       "    }\n",
       "\n",
       "    .dataframe thead th {\n",
       "        text-align: right;\n",
       "    }\n",
       "</style>\n",
       "<table border=\"1\" class=\"dataframe\">\n",
       "  <thead>\n",
       "    <tr style=\"text-align: right;\">\n",
       "      <th></th>\n",
       "      <th>0</th>\n",
       "      <th>1</th>\n",
       "      <th>2</th>\n",
       "      <th>3</th>\n",
       "      <th>4</th>\n",
       "      <th>5</th>\n",
       "      <th>6</th>\n",
       "      <th>7</th>\n",
       "      <th>8</th>\n",
       "      <th>9</th>\n",
       "      <th>10</th>\n",
       "      <th>11</th>\n",
       "      <th>12</th>\n",
       "      <th>13</th>\n",
       "      <th>14</th>\n",
       "      <th>15</th>\n",
       "      <th>16</th>\n",
       "      <th>17</th>\n",
       "      <th>18</th>\n",
       "      <th>19</th>\n",
       "    </tr>\n",
       "  </thead>\n",
       "  <tbody>\n",
       "    <tr>\n",
       "      <th>0</th>\n",
       "      <td>6.04313e-05</td>\n",
       "      <td>3.6911e-05</td>\n",
       "      <td>3.68585e-05</td>\n",
       "      <td>-2.48253e-05</td>\n",
       "      <td>8.39096e-06</td>\n",
       "      <td>-2.9159e-05</td>\n",
       "      <td>-3.99739e-06</td>\n",
       "      <td>-1.28499e-05</td>\n",
       "      <td>8.35987e-06</td>\n",
       "      <td>2.93706e-06</td>\n",
       "      <td>1.23326e-05</td>\n",
       "      <td>-3.06947e-06</td>\n",
       "      <td>9.38728e-06</td>\n",
       "      <td>-5.55795e-06</td>\n",
       "      <td>-1.06225e-06</td>\n",
       "      <td>3.69421e-06</td>\n",
       "      <td>6.15988e-06</td>\n",
       "      <td>1.97912e-05</td>\n",
       "      <td>4.21385e-05</td>\n",
       "      <td>1.2128e-05</td>\n",
       "    </tr>\n",
       "    <tr>\n",
       "      <th>1</th>\n",
       "      <td>3.6911e-05</td>\n",
       "      <td>0.000167509</td>\n",
       "      <td>-1.14743e-05</td>\n",
       "      <td>7.72828e-06</td>\n",
       "      <td>-2.61216e-06</td>\n",
       "      <td>9.07738e-06</td>\n",
       "      <td>1.24442e-06</td>\n",
       "      <td>4.00024e-06</td>\n",
       "      <td>-2.60248e-06</td>\n",
       "      <td>-9.14327e-07</td>\n",
       "      <td>-3.83923e-06</td>\n",
       "      <td>9.55545e-07</td>\n",
       "      <td>-2.92232e-06</td>\n",
       "      <td>1.73023e-06</td>\n",
       "      <td>3.30684e-07</td>\n",
       "      <td>-1.15003e-06</td>\n",
       "      <td>-1.91761e-06</td>\n",
       "      <td>-6.16114e-06</td>\n",
       "      <td>-1.3118e-05</td>\n",
       "      <td>-3.77553e-06</td>\n",
       "    </tr>\n",
       "    <tr>\n",
       "      <th>2</th>\n",
       "      <td>3.68585e-05</td>\n",
       "      <td>-1.14743e-05</td>\n",
       "      <td>8.87545e-05</td>\n",
       "      <td>6.07825e-05</td>\n",
       "      <td>9.35655e-06</td>\n",
       "      <td>-3.25144e-05</td>\n",
       "      <td>-6.4972e-06</td>\n",
       "      <td>-2.08856e-05</td>\n",
       "      <td>2.07049e-07</td>\n",
       "      <td>7.27423e-08</td>\n",
       "      <td>8.52186e-06</td>\n",
       "      <td>-2.121e-06</td>\n",
       "      <td>8.81977e-06</td>\n",
       "      <td>-5.22194e-06</td>\n",
       "      <td>1.23382e-06</td>\n",
       "      <td>-4.2909e-06</td>\n",
       "      <td>2.22779e-06</td>\n",
       "      <td>7.15773e-06</td>\n",
       "      <td>2.95166e-05</td>\n",
       "      <td>8.49526e-06</td>\n",
       "    </tr>\n",
       "    <tr>\n",
       "      <th>3</th>\n",
       "      <td>-2.48253e-05</td>\n",
       "      <td>7.72828e-06</td>\n",
       "      <td>6.07825e-05</td>\n",
       "      <td>0.000138061</td>\n",
       "      <td>-6.30191e-06</td>\n",
       "      <td>2.18994e-05</td>\n",
       "      <td>4.37605e-06</td>\n",
       "      <td>1.40671e-05</td>\n",
       "      <td>-1.39454e-07</td>\n",
       "      <td>-4.89941e-08</td>\n",
       "      <td>-5.73972e-06</td>\n",
       "      <td>1.42856e-06</td>\n",
       "      <td>-5.94037e-06</td>\n",
       "      <td>3.51713e-06</td>\n",
       "      <td>-8.31015e-07</td>\n",
       "      <td>2.89005e-06</td>\n",
       "      <td>-1.50048e-06</td>\n",
       "      <td>-4.82094e-06</td>\n",
       "      <td>-1.98803e-05</td>\n",
       "      <td>-5.7218e-06</td>\n",
       "    </tr>\n",
       "    <tr>\n",
       "      <th>4</th>\n",
       "      <td>8.39096e-06</td>\n",
       "      <td>-2.61216e-06</td>\n",
       "      <td>9.35655e-06</td>\n",
       "      <td>-6.30191e-06</td>\n",
       "      <td>0.000169386</td>\n",
       "      <td>3.34081e-05</td>\n",
       "      <td>-4.17908e-06</td>\n",
       "      <td>-1.34339e-05</td>\n",
       "      <td>-6.72108e-06</td>\n",
       "      <td>-2.36131e-06</td>\n",
       "      <td>-1.30069e-06</td>\n",
       "      <td>3.23728e-07</td>\n",
       "      <td>1.06234e-06</td>\n",
       "      <td>-6.28981e-07</td>\n",
       "      <td>1.42381e-06</td>\n",
       "      <td>-4.95162e-06</td>\n",
       "      <td>-1.33223e-06</td>\n",
       "      <td>-4.28036e-06</td>\n",
       "      <td>2.91312e-06</td>\n",
       "      <td>8.38433e-07</td>\n",
       "    </tr>\n",
       "    <tr>\n",
       "      <th>5</th>\n",
       "      <td>-2.9159e-05</td>\n",
       "      <td>9.07738e-06</td>\n",
       "      <td>-3.25144e-05</td>\n",
       "      <td>2.18994e-05</td>\n",
       "      <td>3.34081e-05</td>\n",
       "      <td>6.29048e-05</td>\n",
       "      <td>1.45225e-05</td>\n",
       "      <td>4.66833e-05</td>\n",
       "      <td>2.33561e-05</td>\n",
       "      <td>8.20566e-06</td>\n",
       "      <td>4.51995e-06</td>\n",
       "      <td>-1.12497e-06</td>\n",
       "      <td>-3.69168e-06</td>\n",
       "      <td>2.18574e-06</td>\n",
       "      <td>-4.94779e-06</td>\n",
       "      <td>1.72071e-05</td>\n",
       "      <td>4.62956e-06</td>\n",
       "      <td>1.48744e-05</td>\n",
       "      <td>-1.01232e-05</td>\n",
       "      <td>-2.91359e-06</td>\n",
       "    </tr>\n",
       "    <tr>\n",
       "      <th>6</th>\n",
       "      <td>-3.99739e-06</td>\n",
       "      <td>1.24442e-06</td>\n",
       "      <td>-6.4972e-06</td>\n",
       "      <td>4.37605e-06</td>\n",
       "      <td>-4.17908e-06</td>\n",
       "      <td>1.45225e-05</td>\n",
       "      <td>0.000168461</td>\n",
       "      <td>-3.3876e-05</td>\n",
       "      <td>1.26139e-05</td>\n",
       "      <td>4.43163e-06</td>\n",
       "      <td>6.57134e-06</td>\n",
       "      <td>-1.63554e-06</td>\n",
       "      <td>2.68446e-06</td>\n",
       "      <td>-1.5894e-06</td>\n",
       "      <td>-1.34878e-06</td>\n",
       "      <td>4.6907e-06</td>\n",
       "      <td>2.2172e-06</td>\n",
       "      <td>7.1237e-06</td>\n",
       "      <td>2.47386e-06</td>\n",
       "      <td>7.12008e-07</td>\n",
       "    </tr>\n",
       "    <tr>\n",
       "      <th>7</th>\n",
       "      <td>-1.28499e-05</td>\n",
       "      <td>4.00024e-06</td>\n",
       "      <td>-2.08856e-05</td>\n",
       "      <td>1.40671e-05</td>\n",
       "      <td>-1.34339e-05</td>\n",
       "      <td>4.66833e-05</td>\n",
       "      <td>-3.3876e-05</td>\n",
       "      <td>7.01028e-05</td>\n",
       "      <td>4.05481e-05</td>\n",
       "      <td>1.42457e-05</td>\n",
       "      <td>2.11239e-05</td>\n",
       "      <td>-5.25753e-06</td>\n",
       "      <td>8.62936e-06</td>\n",
       "      <td>-5.1092e-06</td>\n",
       "      <td>-4.33573e-06</td>\n",
       "      <td>1.50785e-05</td>\n",
       "      <td>7.12732e-06</td>\n",
       "      <td>2.28995e-05</td>\n",
       "      <td>7.95236e-06</td>\n",
       "      <td>2.28879e-06</td>\n",
       "    </tr>\n",
       "    <tr>\n",
       "      <th>8</th>\n",
       "      <td>8.35987e-06</td>\n",
       "      <td>-2.60248e-06</td>\n",
       "      <td>2.07049e-07</td>\n",
       "      <td>-1.39454e-07</td>\n",
       "      <td>-6.72108e-06</td>\n",
       "      <td>2.33561e-05</td>\n",
       "      <td>1.26139e-05</td>\n",
       "      <td>4.05481e-05</td>\n",
       "      <td>6.89999e-05</td>\n",
       "      <td>-3.8646e-05</td>\n",
       "      <td>4.19744e-05</td>\n",
       "      <td>-1.0447e-05</td>\n",
       "      <td>3.0228e-05</td>\n",
       "      <td>-1.78972e-05</td>\n",
       "      <td>2.41245e-06</td>\n",
       "      <td>-8.38984e-06</td>\n",
       "      <td>2.80169e-06</td>\n",
       "      <td>9.00163e-06</td>\n",
       "      <td>1.81232e-05</td>\n",
       "      <td>5.21608e-06</td>\n",
       "    </tr>\n",
       "    <tr>\n",
       "      <th>9</th>\n",
       "      <td>2.93706e-06</td>\n",
       "      <td>-9.14327e-07</td>\n",
       "      <td>7.27423e-08</td>\n",
       "      <td>-4.89941e-08</td>\n",
       "      <td>-2.36131e-06</td>\n",
       "      <td>8.20566e-06</td>\n",
       "      <td>4.43163e-06</td>\n",
       "      <td>1.42457e-05</td>\n",
       "      <td>-3.8646e-05</td>\n",
       "      <td>0.000165422</td>\n",
       "      <td>1.47468e-05</td>\n",
       "      <td>-3.67033e-06</td>\n",
       "      <td>1.062e-05</td>\n",
       "      <td>-6.28779e-06</td>\n",
       "      <td>8.47562e-07</td>\n",
       "      <td>-2.94759e-06</td>\n",
       "      <td>9.84316e-07</td>\n",
       "      <td>3.16253e-06</td>\n",
       "      <td>6.36719e-06</td>\n",
       "      <td>1.83256e-06</td>\n",
       "    </tr>\n",
       "    <tr>\n",
       "      <th>10</th>\n",
       "      <td>1.23326e-05</td>\n",
       "      <td>-3.83923e-06</td>\n",
       "      <td>8.52186e-06</td>\n",
       "      <td>-5.73972e-06</td>\n",
       "      <td>-1.30069e-06</td>\n",
       "      <td>4.51995e-06</td>\n",
       "      <td>6.57134e-06</td>\n",
       "      <td>2.11239e-05</td>\n",
       "      <td>4.19744e-05</td>\n",
       "      <td>1.47468e-05</td>\n",
       "      <td>5.6874e-05</td>\n",
       "      <td>3.03957e-05</td>\n",
       "      <td>3.93292e-05</td>\n",
       "      <td>-2.32857e-05</td>\n",
       "      <td>8.28984e-06</td>\n",
       "      <td>-2.88298e-05</td>\n",
       "      <td>-3.73863e-06</td>\n",
       "      <td>-1.20119e-05</td>\n",
       "      <td>1.01454e-05</td>\n",
       "      <td>2.91998e-06</td>\n",
       "    </tr>\n",
       "    <tr>\n",
       "      <th>11</th>\n",
       "      <td>-3.06947e-06</td>\n",
       "      <td>9.55545e-07</td>\n",
       "      <td>-2.121e-06</td>\n",
       "      <td>1.42856e-06</td>\n",
       "      <td>3.23728e-07</td>\n",
       "      <td>-1.12497e-06</td>\n",
       "      <td>-1.63554e-06</td>\n",
       "      <td>-5.25753e-06</td>\n",
       "      <td>-1.0447e-05</td>\n",
       "      <td>-3.67033e-06</td>\n",
       "      <td>3.03957e-05</td>\n",
       "      <td>0.000171434</td>\n",
       "      <td>-9.78863e-06</td>\n",
       "      <td>5.79557e-06</td>\n",
       "      <td>-2.06326e-06</td>\n",
       "      <td>7.17545e-06</td>\n",
       "      <td>9.30506e-07</td>\n",
       "      <td>2.98965e-06</td>\n",
       "      <td>-2.52509e-06</td>\n",
       "      <td>-7.26754e-07</td>\n",
       "    </tr>\n",
       "    <tr>\n",
       "      <th>12</th>\n",
       "      <td>9.38728e-06</td>\n",
       "      <td>-2.92232e-06</td>\n",
       "      <td>8.81977e-06</td>\n",
       "      <td>-5.94037e-06</td>\n",
       "      <td>1.06234e-06</td>\n",
       "      <td>-3.69168e-06</td>\n",
       "      <td>2.68446e-06</td>\n",
       "      <td>8.62936e-06</td>\n",
       "      <td>3.0228e-05</td>\n",
       "      <td>1.062e-05</td>\n",
       "      <td>3.93292e-05</td>\n",
       "      <td>-9.78863e-06</td>\n",
       "      <td>8.24009e-05</td>\n",
       "      <td>5.71932e-05</td>\n",
       "      <td>9.65957e-06</td>\n",
       "      <td>-3.35934e-05</td>\n",
       "      <td>-6.56051e-06</td>\n",
       "      <td>-2.10784e-05</td>\n",
       "      <td>1.98834e-06</td>\n",
       "      <td>5.7227e-07</td>\n",
       "    </tr>\n",
       "    <tr>\n",
       "      <th>13</th>\n",
       "      <td>-5.55795e-06</td>\n",
       "      <td>1.73023e-06</td>\n",
       "      <td>-5.22194e-06</td>\n",
       "      <td>3.51713e-06</td>\n",
       "      <td>-6.28981e-07</td>\n",
       "      <td>2.18574e-06</td>\n",
       "      <td>-1.5894e-06</td>\n",
       "      <td>-5.1092e-06</td>\n",
       "      <td>-1.78972e-05</td>\n",
       "      <td>-6.28779e-06</td>\n",
       "      <td>-2.32857e-05</td>\n",
       "      <td>5.79557e-06</td>\n",
       "      <td>5.71932e-05</td>\n",
       "      <td>0.000145137</td>\n",
       "      <td>-5.71916e-06</td>\n",
       "      <td>1.98897e-05</td>\n",
       "      <td>3.8843e-06</td>\n",
       "      <td>1.248e-05</td>\n",
       "      <td>-1.17724e-06</td>\n",
       "      <td>-3.38825e-07</td>\n",
       "    </tr>\n",
       "    <tr>\n",
       "      <th>14</th>\n",
       "      <td>-1.06225e-06</td>\n",
       "      <td>3.30684e-07</td>\n",
       "      <td>1.23382e-06</td>\n",
       "      <td>-8.31015e-07</td>\n",
       "      <td>1.42381e-06</td>\n",
       "      <td>-4.94779e-06</td>\n",
       "      <td>-1.34878e-06</td>\n",
       "      <td>-4.33573e-06</td>\n",
       "      <td>2.41245e-06</td>\n",
       "      <td>8.47562e-07</td>\n",
       "      <td>8.28984e-06</td>\n",
       "      <td>-2.06326e-06</td>\n",
       "      <td>9.65957e-06</td>\n",
       "      <td>-5.71916e-06</td>\n",
       "      <td>0.000169577</td>\n",
       "      <td>3.2769e-05</td>\n",
       "      <td>-4.38644e-06</td>\n",
       "      <td>-1.40933e-05</td>\n",
       "      <td>-6.79951e-06</td>\n",
       "      <td>-1.95698e-06</td>\n",
       "    </tr>\n",
       "    <tr>\n",
       "      <th>15</th>\n",
       "      <td>3.69421e-06</td>\n",
       "      <td>-1.15003e-06</td>\n",
       "      <td>-4.2909e-06</td>\n",
       "      <td>2.89005e-06</td>\n",
       "      <td>-4.95162e-06</td>\n",
       "      <td>1.72071e-05</td>\n",
       "      <td>4.6907e-06</td>\n",
       "      <td>1.50785e-05</td>\n",
       "      <td>-8.38984e-06</td>\n",
       "      <td>-2.94759e-06</td>\n",
       "      <td>-2.88298e-05</td>\n",
       "      <td>7.17545e-06</td>\n",
       "      <td>-3.35934e-05</td>\n",
       "      <td>1.98897e-05</td>\n",
       "      <td>3.2769e-05</td>\n",
       "      <td>6.50376e-05</td>\n",
       "      <td>1.52549e-05</td>\n",
       "      <td>4.90127e-05</td>\n",
       "      <td>2.36469e-05</td>\n",
       "      <td>6.80587e-06</td>\n",
       "    </tr>\n",
       "    <tr>\n",
       "      <th>16</th>\n",
       "      <td>6.15988e-06</td>\n",
       "      <td>-1.91761e-06</td>\n",
       "      <td>2.22779e-06</td>\n",
       "      <td>-1.50048e-06</td>\n",
       "      <td>-1.33223e-06</td>\n",
       "      <td>4.62956e-06</td>\n",
       "      <td>2.2172e-06</td>\n",
       "      <td>7.12732e-06</td>\n",
       "      <td>2.80169e-06</td>\n",
       "      <td>9.84316e-07</td>\n",
       "      <td>-3.73863e-06</td>\n",
       "      <td>9.30506e-07</td>\n",
       "      <td>-6.56051e-06</td>\n",
       "      <td>3.8843e-06</td>\n",
       "      <td>-4.38644e-06</td>\n",
       "      <td>1.52549e-05</td>\n",
       "      <td>0.000168694</td>\n",
       "      <td>-3.31103e-05</td>\n",
       "      <td>1.29166e-05</td>\n",
       "      <td>3.71756e-06</td>\n",
       "    </tr>\n",
       "    <tr>\n",
       "      <th>17</th>\n",
       "      <td>1.97912e-05</td>\n",
       "      <td>-6.16114e-06</td>\n",
       "      <td>7.15773e-06</td>\n",
       "      <td>-4.82094e-06</td>\n",
       "      <td>-4.28036e-06</td>\n",
       "      <td>1.48744e-05</td>\n",
       "      <td>7.1237e-06</td>\n",
       "      <td>2.28995e-05</td>\n",
       "      <td>9.00163e-06</td>\n",
       "      <td>3.16253e-06</td>\n",
       "      <td>-1.20119e-05</td>\n",
       "      <td>2.98965e-06</td>\n",
       "      <td>-2.10784e-05</td>\n",
       "      <td>1.248e-05</td>\n",
       "      <td>-1.40933e-05</td>\n",
       "      <td>4.90127e-05</td>\n",
       "      <td>-3.31103e-05</td>\n",
       "      <td>7.26184e-05</td>\n",
       "      <td>4.15e-05</td>\n",
       "      <td>1.19442e-05</td>\n",
       "    </tr>\n",
       "    <tr>\n",
       "      <th>18</th>\n",
       "      <td>4.21385e-05</td>\n",
       "      <td>-1.3118e-05</td>\n",
       "      <td>2.95166e-05</td>\n",
       "      <td>-1.98803e-05</td>\n",
       "      <td>2.91312e-06</td>\n",
       "      <td>-1.01232e-05</td>\n",
       "      <td>2.47386e-06</td>\n",
       "      <td>7.95236e-06</td>\n",
       "      <td>1.81232e-05</td>\n",
       "      <td>6.36719e-06</td>\n",
       "      <td>1.01454e-05</td>\n",
       "      <td>-2.52509e-06</td>\n",
       "      <td>1.98834e-06</td>\n",
       "      <td>-1.17724e-06</td>\n",
       "      <td>-6.79951e-06</td>\n",
       "      <td>2.36469e-05</td>\n",
       "      <td>1.29166e-05</td>\n",
       "      <td>4.15e-05</td>\n",
       "      <td>6.55832e-05</td>\n",
       "      <td>-3.26426e-05</td>\n",
       "    </tr>\n",
       "    <tr>\n",
       "      <th>19</th>\n",
       "      <td>1.2128e-05</td>\n",
       "      <td>-3.77553e-06</td>\n",
       "      <td>8.49526e-06</td>\n",
       "      <td>-5.7218e-06</td>\n",
       "      <td>8.38433e-07</td>\n",
       "      <td>-2.91359e-06</td>\n",
       "      <td>7.12008e-07</td>\n",
       "      <td>2.28879e-06</td>\n",
       "      <td>5.21608e-06</td>\n",
       "      <td>1.83256e-06</td>\n",
       "      <td>2.91998e-06</td>\n",
       "      <td>-7.26754e-07</td>\n",
       "      <td>5.7227e-07</td>\n",
       "      <td>-3.38825e-07</td>\n",
       "      <td>-1.95698e-06</td>\n",
       "      <td>6.80587e-06</td>\n",
       "      <td>3.71756e-06</td>\n",
       "      <td>1.19442e-05</td>\n",
       "      <td>-3.26426e-05</td>\n",
       "      <td>0.000169604</td>\n",
       "    </tr>\n",
       "  </tbody>\n",
       "</table>\n",
       "</div>"
      ],
      "text/plain": [
       "             0            1            2            3            4   \\\n",
       "0   6.04313e-05   3.6911e-05  3.68585e-05 -2.48253e-05  8.39096e-06   \n",
       "1    3.6911e-05  0.000167509 -1.14743e-05  7.72828e-06 -2.61216e-06   \n",
       "2   3.68585e-05 -1.14743e-05  8.87545e-05  6.07825e-05  9.35655e-06   \n",
       "3  -2.48253e-05  7.72828e-06  6.07825e-05  0.000138061 -6.30191e-06   \n",
       "4   8.39096e-06 -2.61216e-06  9.35655e-06 -6.30191e-06  0.000169386   \n",
       "5   -2.9159e-05  9.07738e-06 -3.25144e-05  2.18994e-05  3.34081e-05   \n",
       "6  -3.99739e-06  1.24442e-06  -6.4972e-06  4.37605e-06 -4.17908e-06   \n",
       "7  -1.28499e-05  4.00024e-06 -2.08856e-05  1.40671e-05 -1.34339e-05   \n",
       "8   8.35987e-06 -2.60248e-06  2.07049e-07 -1.39454e-07 -6.72108e-06   \n",
       "9   2.93706e-06 -9.14327e-07  7.27423e-08 -4.89941e-08 -2.36131e-06   \n",
       "10  1.23326e-05 -3.83923e-06  8.52186e-06 -5.73972e-06 -1.30069e-06   \n",
       "11 -3.06947e-06  9.55545e-07   -2.121e-06  1.42856e-06  3.23728e-07   \n",
       "12  9.38728e-06 -2.92232e-06  8.81977e-06 -5.94037e-06  1.06234e-06   \n",
       "13 -5.55795e-06  1.73023e-06 -5.22194e-06  3.51713e-06 -6.28981e-07   \n",
       "14 -1.06225e-06  3.30684e-07  1.23382e-06 -8.31015e-07  1.42381e-06   \n",
       "15  3.69421e-06 -1.15003e-06  -4.2909e-06  2.89005e-06 -4.95162e-06   \n",
       "16  6.15988e-06 -1.91761e-06  2.22779e-06 -1.50048e-06 -1.33223e-06   \n",
       "17  1.97912e-05 -6.16114e-06  7.15773e-06 -4.82094e-06 -4.28036e-06   \n",
       "18  4.21385e-05  -1.3118e-05  2.95166e-05 -1.98803e-05  2.91312e-06   \n",
       "19   1.2128e-05 -3.77553e-06  8.49526e-06  -5.7218e-06  8.38433e-07   \n",
       "\n",
       "             5            6            7            8            9   \\\n",
       "0   -2.9159e-05 -3.99739e-06 -1.28499e-05  8.35987e-06  2.93706e-06   \n",
       "1   9.07738e-06  1.24442e-06  4.00024e-06 -2.60248e-06 -9.14327e-07   \n",
       "2  -3.25144e-05  -6.4972e-06 -2.08856e-05  2.07049e-07  7.27423e-08   \n",
       "3   2.18994e-05  4.37605e-06  1.40671e-05 -1.39454e-07 -4.89941e-08   \n",
       "4   3.34081e-05 -4.17908e-06 -1.34339e-05 -6.72108e-06 -2.36131e-06   \n",
       "5   6.29048e-05  1.45225e-05  4.66833e-05  2.33561e-05  8.20566e-06   \n",
       "6   1.45225e-05  0.000168461  -3.3876e-05  1.26139e-05  4.43163e-06   \n",
       "7   4.66833e-05  -3.3876e-05  7.01028e-05  4.05481e-05  1.42457e-05   \n",
       "8   2.33561e-05  1.26139e-05  4.05481e-05  6.89999e-05  -3.8646e-05   \n",
       "9   8.20566e-06  4.43163e-06  1.42457e-05  -3.8646e-05  0.000165422   \n",
       "10  4.51995e-06  6.57134e-06  2.11239e-05  4.19744e-05  1.47468e-05   \n",
       "11 -1.12497e-06 -1.63554e-06 -5.25753e-06  -1.0447e-05 -3.67033e-06   \n",
       "12 -3.69168e-06  2.68446e-06  8.62936e-06   3.0228e-05    1.062e-05   \n",
       "13  2.18574e-06  -1.5894e-06  -5.1092e-06 -1.78972e-05 -6.28779e-06   \n",
       "14 -4.94779e-06 -1.34878e-06 -4.33573e-06  2.41245e-06  8.47562e-07   \n",
       "15  1.72071e-05   4.6907e-06  1.50785e-05 -8.38984e-06 -2.94759e-06   \n",
       "16  4.62956e-06   2.2172e-06  7.12732e-06  2.80169e-06  9.84316e-07   \n",
       "17  1.48744e-05   7.1237e-06  2.28995e-05  9.00163e-06  3.16253e-06   \n",
       "18 -1.01232e-05  2.47386e-06  7.95236e-06  1.81232e-05  6.36719e-06   \n",
       "19 -2.91359e-06  7.12008e-07  2.28879e-06  5.21608e-06  1.83256e-06   \n",
       "\n",
       "             10           11           12           13           14  \\\n",
       "0   1.23326e-05 -3.06947e-06  9.38728e-06 -5.55795e-06 -1.06225e-06   \n",
       "1  -3.83923e-06  9.55545e-07 -2.92232e-06  1.73023e-06  3.30684e-07   \n",
       "2   8.52186e-06   -2.121e-06  8.81977e-06 -5.22194e-06  1.23382e-06   \n",
       "3  -5.73972e-06  1.42856e-06 -5.94037e-06  3.51713e-06 -8.31015e-07   \n",
       "4  -1.30069e-06  3.23728e-07  1.06234e-06 -6.28981e-07  1.42381e-06   \n",
       "5   4.51995e-06 -1.12497e-06 -3.69168e-06  2.18574e-06 -4.94779e-06   \n",
       "6   6.57134e-06 -1.63554e-06  2.68446e-06  -1.5894e-06 -1.34878e-06   \n",
       "7   2.11239e-05 -5.25753e-06  8.62936e-06  -5.1092e-06 -4.33573e-06   \n",
       "8   4.19744e-05  -1.0447e-05   3.0228e-05 -1.78972e-05  2.41245e-06   \n",
       "9   1.47468e-05 -3.67033e-06    1.062e-05 -6.28779e-06  8.47562e-07   \n",
       "10   5.6874e-05  3.03957e-05  3.93292e-05 -2.32857e-05  8.28984e-06   \n",
       "11  3.03957e-05  0.000171434 -9.78863e-06  5.79557e-06 -2.06326e-06   \n",
       "12  3.93292e-05 -9.78863e-06  8.24009e-05  5.71932e-05  9.65957e-06   \n",
       "13 -2.32857e-05  5.79557e-06  5.71932e-05  0.000145137 -5.71916e-06   \n",
       "14  8.28984e-06 -2.06326e-06  9.65957e-06 -5.71916e-06  0.000169577   \n",
       "15 -2.88298e-05  7.17545e-06 -3.35934e-05  1.98897e-05   3.2769e-05   \n",
       "16 -3.73863e-06  9.30506e-07 -6.56051e-06   3.8843e-06 -4.38644e-06   \n",
       "17 -1.20119e-05  2.98965e-06 -2.10784e-05    1.248e-05 -1.40933e-05   \n",
       "18  1.01454e-05 -2.52509e-06  1.98834e-06 -1.17724e-06 -6.79951e-06   \n",
       "19  2.91998e-06 -7.26754e-07   5.7227e-07 -3.38825e-07 -1.95698e-06   \n",
       "\n",
       "             15           16           17           18           19  \n",
       "0   3.69421e-06  6.15988e-06  1.97912e-05  4.21385e-05   1.2128e-05  \n",
       "1  -1.15003e-06 -1.91761e-06 -6.16114e-06  -1.3118e-05 -3.77553e-06  \n",
       "2   -4.2909e-06  2.22779e-06  7.15773e-06  2.95166e-05  8.49526e-06  \n",
       "3   2.89005e-06 -1.50048e-06 -4.82094e-06 -1.98803e-05  -5.7218e-06  \n",
       "4  -4.95162e-06 -1.33223e-06 -4.28036e-06  2.91312e-06  8.38433e-07  \n",
       "5   1.72071e-05  4.62956e-06  1.48744e-05 -1.01232e-05 -2.91359e-06  \n",
       "6    4.6907e-06   2.2172e-06   7.1237e-06  2.47386e-06  7.12008e-07  \n",
       "7   1.50785e-05  7.12732e-06  2.28995e-05  7.95236e-06  2.28879e-06  \n",
       "8  -8.38984e-06  2.80169e-06  9.00163e-06  1.81232e-05  5.21608e-06  \n",
       "9  -2.94759e-06  9.84316e-07  3.16253e-06  6.36719e-06  1.83256e-06  \n",
       "10 -2.88298e-05 -3.73863e-06 -1.20119e-05  1.01454e-05  2.91998e-06  \n",
       "11  7.17545e-06  9.30506e-07  2.98965e-06 -2.52509e-06 -7.26754e-07  \n",
       "12 -3.35934e-05 -6.56051e-06 -2.10784e-05  1.98834e-06   5.7227e-07  \n",
       "13  1.98897e-05   3.8843e-06    1.248e-05 -1.17724e-06 -3.38825e-07  \n",
       "14   3.2769e-05 -4.38644e-06 -1.40933e-05 -6.79951e-06 -1.95698e-06  \n",
       "15  6.50376e-05  1.52549e-05  4.90127e-05  2.36469e-05  6.80587e-06  \n",
       "16  1.52549e-05  0.000168694 -3.31103e-05  1.29166e-05  3.71756e-06  \n",
       "17  4.90127e-05 -3.31103e-05  7.26184e-05     4.15e-05  1.19442e-05  \n",
       "18  2.36469e-05  1.29166e-05     4.15e-05  6.55832e-05 -3.26426e-05  \n",
       "19  6.80587e-06  3.71756e-06  1.19442e-05 -3.26426e-05  0.000169604  "
      ]
     },
     "metadata": {},
     "output_type": "display_data"
    }
   ],
   "source": [
    "show_matrix(result.observations.vcm)"
   ]
  },
  {
   "cell_type": "markdown",
   "metadata": {},
   "source": [
    "Or only the standard deviations:"
   ]
  },
  {
   "cell_type": "code",
   "execution_count": 17,
   "metadata": {},
   "outputs": [
    {
     "data": {
      "text/plain": [
       "array([[0.00777376, 0.01294251],\n",
       "       [0.00942096, 0.01174992],\n",
       "       [0.01301482, 0.00793126],\n",
       "       [0.01297925, 0.00837274],\n",
       "       [0.00830662, 0.01286164],\n",
       "       [0.00754148, 0.01309329],\n",
       "       [0.00907749, 0.01204727],\n",
       "       [0.01302217, 0.00806459],\n",
       "       [0.01298822, 0.00852164],\n",
       "       [0.00809835, 0.01302322]])"
      ]
     },
     "execution_count": 17,
     "metadata": {},
     "output_type": "execute_result"
    }
   ],
   "source": [
    "result.observations.std"
   ]
  },
  {
   "cell_type": "markdown",
   "metadata": {},
   "source": [
    "Let's also add point names and the stochastic model apriori: "
   ]
  },
  {
   "cell_type": "code",
   "execution_count": 18,
   "metadata": {},
   "outputs": [],
   "source": [
    "solver.add_data(points, sigma_ll=eye(points.size)*0.01**2, row_names=['P{:02d}'.format(i+1) for i in range(10)])"
   ]
  },
  {
   "cell_type": "code",
   "execution_count": 19,
   "metadata": {},
   "outputs": [],
   "source": [
    "result = solver.solve()"
   ]
  },
  {
   "cell_type": "code",
   "execution_count": 20,
   "metadata": {},
   "outputs": [
    {
     "name": "stdout",
     "output_type": "stream",
     "text": [
      "\n",
      "======================================================\n",
      " Result Summary \n",
      "======================================================\n",
      " - Convergence: \t\t\t\t  [ OK]\n",
      "    ├ # Iterations: \t\t\t     1\n",
      "    └ Criterium: \t\t\t\t\t  1.000e-12\n",
      " - Hauptprobe: \t\t\t\t  [ OK]\n",
      "    └ Max Eps: \t\t\t\t\t  1.421e-14\n",
      " - Globaltest: \t\t\t\t  [ OK]\n",
      "    ├ Test: \t\t\t\t\t\t  eq \n",
      "    ├ Var Prio: \t\t\t\t\t  1.000\n",
      "    ├ Var Post: \t\t\t\t\t  1.790\n",
      "    ├ Ratio:    \t\t\t\t\t  1.790\n",
      "    ├ Alpha: \t\t\t\t\t\t  0.100\n",
      "    └ Testquantity: \t\t\t\t  0.310 < 1.790 < 2.010\n",
      " - Residuals:\n",
      "    ├ SSE (vTv):                0.001\n",
      "    ├ MSE:                      0.000\n",
      "    ├ RMSE:                     0.008\n",
      "    ├ WSSE (vTPv):             12.530\n",
      "    ├ WMSE:                     1.790\n",
      "    └ WRMSE:                    1.790\n",
      "\n",
      "======================================================\n",
      "\n"
     ]
    }
   ],
   "source": [
    "result.model.print_summary()"
   ]
  },
  {
   "cell_type": "markdown",
   "metadata": {},
   "source": [
    "Also define some more information on the observations:\n",
    "* Units\n",
    "* Names\n",
    "* Conversion\n",
    "* Formats"
   ]
  },
  {
   "cell_type": "code",
   "execution_count": 21,
   "metadata": {},
   "outputs": [],
   "source": [
    "result.observations.set_obs_config([y, x],\n",
    "                                   ['cm'] * 2,\n",
    "                                   ['x', 'y'],\n",
    "                                   cxs=[lambda x: x * 1e2] * 2,\n",
    "                                   formats=['.2f'] * 2)"
   ]
  },
  {
   "cell_type": "code",
   "execution_count": 22,
   "metadata": {},
   "outputs": [
    {
     "name": "stdout",
     "output_type": "stream",
     "text": [
      "\n",
      "======================================================\n",
      " Measurements\n",
      "======================================================\n",
      " - Adjusted Measurements, residuals, and standard deviation (σ):\n",
      "    ╒════════╤══════════╤══════════╤════════════╤════════════╤════════════╤════════════╤═══════════╤═══════════╕\n",
      "    │ name   │   y [cm] │   x [cm] │   v_y [cm] │   v_x [cm] │   σ_y [cm] │   σ_x [cm] │   nv_y [] │   nv_x [] │\n",
      "    ╞════════╪══════════╪══════════╪════════════╪════════════╪════════════╪════════════╪═══════════╪═══════════╡\n",
      "    │ P01    │ 16459.81 │  7341.30 │       0.31 │      -0.10 │       0.78 │        1.3 │       0.3 │       0.3 │\n",
      "    ├────────┼──────────┼──────────┼────────────┼────────────┼────────────┼────────────┼───────────┼───────────┤\n",
      "    │ P02    │ 15939.41 │  6256.43 │      -0.19 │       0.13 │       0.94 │        1.2 │       0.2 │       0.2 │\n",
      "    ├────────┼──────────┼──────────┼────────────┼────────────┼────────────┼────────────┼───────────┼───────────┤\n",
      "    │ P03    │ 13644.84 │  4586.49 │      -0.66 │       2.29 │       1.30 │        0.8 │       2.1 │       2.1 │\n",
      "    ├────────┼──────────┼──────────┼────────────┼────────────┼────────────┼────────────┼───────────┼───────────┤\n",
      "    │ P04    │ 11264.29 │  4611.96 │      -0.51 │      -1.64 │       1.30 │        0.8 │       1.6 │       1.6 │\n",
      "    ├────────┼──────────┼──────────┼────────────┼────────────┼────────────┼────────────┼───────────┼───────────┤\n",
      "    │ P05    │  8581.45 │  7199.24 │      -0.75 │      -0.26 │       0.83 │        1.3 │       0.7 │       0.7 │\n",
      "    ├────────┼──────────┼──────────┼────────────┼────────────┼────────────┼────────────┼───────────┼───────────┤\n",
      "    │ P06    │  8469.69 │  9577.30 │      -0.41 │       0.10 │       0.75 │        1.3 │       0.4 │       0.4 │\n",
      "    ├────────┼──────────┼──────────┼────────────┼────────────┼────────────┼────────────┼───────────┼───────────┤\n",
      "    │ P07    │  8925.84 │ 10689.37 │       1.24 │      -0.73 │       0.91 │        1.2 │       1.3 │       1.3 │\n",
      "    ├────────┼──────────┼──────────┼────────────┼────────────┼────────────┼────────────┼───────────┼───────────┤\n",
      "    │ P08    │ 11350.19 │ 12563.58 │       0.09 │      -0.32 │       1.30 │        0.8 │       0.3 │       0.3 │\n",
      "    ├────────┼──────────┼──────────┼────────────┼────────────┼────────────┼────────────┼───────────┼───────────┤\n",
      "    │ P09    │ 13730.49 │ 12537.70 │       0.09 │       0.30 │       1.30 │        0.9 │       0.3 │       0.3 │\n",
      "    ├────────┼──────────┼──────────┼────────────┼────────────┼────────────┼────────────┼───────────┼───────────┤\n",
      "    │ P10    │ 16485.48 │  9722.83 │       0.78 │       0.23 │       0.81 │        1.3 │       0.7 │       0.7 │\n",
      "    ╘════════╧══════════╧══════════╧════════════╧════════════╧════════════╧════════════╧═══════════╧═══════════╛\n",
      "\n",
      "======================================================\n",
      "\n"
     ]
    }
   ],
   "source": [
    "result.observations.print()"
   ]
  },
  {
   "cell_type": "code",
   "execution_count": 23,
   "metadata": {},
   "outputs": [],
   "source": [
    "result.parameters.set_params_config([ym, xm, r], ['cm']*3, ['x_m', 'y_m', 'r'],\n",
    "                                   cxs=[lambda x: x * 1e2] * 3,\n",
    "                                   formats=['.2f'] * 3)"
   ]
  },
  {
   "cell_type": "code",
   "execution_count": 24,
   "metadata": {},
   "outputs": [
    {
     "name": "stdout",
     "output_type": "stream",
     "text": [
      "\n",
      "======================================================\n",
      " Paramters\n",
      "======================================================\n",
      " - Parameter Estimates ± σ:\n",
      "    ├   ym:     12497.11 ±     0.58   [cm]\n",
      "    ├   xm:      8574.92 ±     0.63   [cm]\n",
      "    └    r:      4150.28 ±     0.42   [cm]\n",
      "- Correlation Matrix:\n",
      "    ╒══════╤══════╤══════╕\n",
      "    │ 1.00 │ 0.16 │ 0.01 │\n",
      "    ├──────┼──────┼──────┤\n",
      "    │ 0.16 │ 1.00 │ 0.02 │\n",
      "    ├──────┼──────┼──────┤\n",
      "    │ 0.01 │ 0.02 │ 1.00 │\n",
      "    ╘══════╧══════╧══════╛\n",
      "\n",
      "======================================================\n",
      "\n"
     ]
    }
   ],
   "source": [
    "result.parameters.print()"
   ]
  },
  {
   "cell_type": "markdown",
   "metadata": {},
   "source": [
    "# Saving Models"
   ]
  },
  {
   "cell_type": "code",
   "execution_count": 25,
   "metadata": {},
   "outputs": [],
   "source": [
    "gh_config.save('circle.pk')"
   ]
  },
  {
   "cell_type": "code",
   "execution_count": 26,
   "metadata": {},
   "outputs": [
    {
     "name": "stdout",
     "output_type": "stream",
     "text": [
      "10.2 ms ± 104 µs per loop (mean ± std. dev. of 7 runs, 100 loops each)\n"
     ]
    }
   ],
   "source": [
    "%timeit gh_config.add_model_autodiff(phi, (ym, xm, r), (y, x))"
   ]
  },
  {
   "cell_type": "code",
   "execution_count": 27,
   "metadata": {},
   "outputs": [
    {
     "name": "stdout",
     "output_type": "stream",
     "text": [
      "220 µs ± 653 ns per loop (mean ± std. dev. of 7 runs, 1000 loops each)\n"
     ]
    }
   ],
   "source": [
    "%timeit GHModelConfig.load('circle.pk')"
   ]
  },
  {
   "cell_type": "code",
   "execution_count": 28,
   "metadata": {},
   "outputs": [],
   "source": [
    "conf = GHModelConfig.load('circle.pk')"
   ]
  },
  {
   "cell_type": "code",
   "execution_count": 29,
   "metadata": {},
   "outputs": [],
   "source": [
    "solver2 = GHAdjust(conf)\n",
    "solver2.set_initial_params([120., 85., 40])\n",
    "solver2.add_data(points, sigma_ll=eye(points.size)*0.01**2, row_names=['P{:02d}'.format(i+1) for i in range(10)])"
   ]
  },
  {
   "cell_type": "code",
   "execution_count": 30,
   "metadata": {},
   "outputs": [],
   "source": [
    "result2 = solver2.solve()"
   ]
  },
  {
   "cell_type": "code",
   "execution_count": 31,
   "metadata": {},
   "outputs": [
    {
     "name": "stdout",
     "output_type": "stream",
     "text": [
      "\n",
      "======================================================\n",
      " Paramters\n",
      "======================================================\n",
      " - Parameter Estimates ± σ:\n",
      "    ├   ym:      124.971 ±    0.006\n",
      "    ├   xm:       85.749 ±    0.006\n",
      "    └    r:       41.503 ±    0.004\n",
      "- Correlation Matrix:\n",
      "    ╒══════╤══════╤══════╕\n",
      "    │ 1.00 │ 0.16 │ 0.01 │\n",
      "    ├──────┼──────┼──────┤\n",
      "    │ 0.16 │ 1.00 │ 0.02 │\n",
      "    ├──────┼──────┼──────┤\n",
      "    │ 0.01 │ 0.02 │ 1.00 │\n",
      "    ╘══════╧══════╧══════╛\n",
      "\n",
      "======================================================\n",
      "\n"
     ]
    }
   ],
   "source": [
    "result2.parameters.print()"
   ]
  },
  {
   "cell_type": "markdown",
   "metadata": {},
   "source": [
    "# IMU Calibration"
   ]
  },
  {
   "cell_type": "code",
   "execution_count": 42,
   "metadata": {},
   "outputs": [],
   "source": [
    "imu_config = GHModelConfig.load(r'../models/imu_rob.pk')\n",
    "# sp.simplify(imu_config._sym_phi)"
   ]
  },
  {
   "cell_type": "code",
   "execution_count": 33,
   "metadata": {},
   "outputs": [],
   "source": [
    "# simulate some data\n",
    "scheme = get_real_scheme()\n",
    "\n",
    "params = {'g_true': 9.82, 'g_est': 9.82,\n",
    "          'psi_bi': array([[0., 0., 0.]]).T, 'l': 1.35,\n",
    "          'var': 1e-5,\n",
    "          'ba': array([[-0.008, -0.001, 0.016]]).T,\n",
    "          'sa': array([[-400e-6, 250e-6, 100e-6]]).T + 1,\n",
    "          'ma': array([[20e-3, 5e-3, -8e-3]]).T / 200 * pi,\n",
    "          'mo': array([[0., 0., 0.]]).T / 200 * pi,\n",
    "          'epochs': 1,\n",
    "          'sets': 1,\n",
    "          'sim_model': 'bias_scale_misalign_mounting',\n",
    "          'estimate_model': 'bias_scale_misalign_mounting',\n",
    "          'var_rob': (0.035 / 200 * pi) ** 2}\n",
    "\n",
    "imu_obs, imu_var, rob_obs, rob_var = simulate_obs(scheme, params)"
   ]
  },
  {
   "cell_type": "code",
   "execution_count": 34,
   "metadata": {},
   "outputs": [],
   "source": [
    "# compute with GH adjustment\n",
    "imu_solver = GHAdjust(imu_config, max_iterations=10)\n",
    "\n",
    "x0 = array([0., 0., 0., 1., 1., 1., 0., 0., 0., 0., 0., 0.])\n",
    "imu_solver.set_initial_params(x0)\n",
    "\n",
    "# add the simulated data\n",
    "obs_all = hstack((imu_obs, rob_obs))\n",
    "var_all = hstack((imu_var, rob_var))\n",
    "\n",
    "names = ['I{:03d}'.format(i+1) for i in range(imu_obs.shape[0])]\n",
    "imu_solver.add_data(obs_all, sigma_ll=diag(var_all.flatten()), var0=mean(var_all),\n",
    "                row_names=names)"
   ]
  },
  {
   "cell_type": "code",
   "execution_count": 35,
   "metadata": {},
   "outputs": [],
   "source": [
    "imu_result = imu_solver.solve()"
   ]
  },
  {
   "cell_type": "code",
   "execution_count": 36,
   "metadata": {},
   "outputs": [
    {
     "name": "stdout",
     "output_type": "stream",
     "text": [
      "\n",
      "======================================================\n",
      " Result Summary \n",
      "======================================================\n",
      " - Convergence: \t\t\t\t  [ OK]\n",
      "    ├ # Iterations: \t\t\t     4\n",
      "    └ Criterium: \t\t\t\t\t  1.000e-12\n",
      " - Hauptprobe: \t\t\t\t  [ OK]\n",
      "    └ Max Eps: \t\t\t\t\t  1.776e-15\n",
      " - Globaltest: \t\t\t\t  [ OK]\n",
      "    ├ Test: \t\t\t\t\t\t  eq \n",
      "    ├ Var Prio: \t\t\t\t\t  0.000\n",
      "    ├ Var Post: \t\t\t\t\t  0.000\n",
      "    ├ Ratio:    \t\t\t\t\t  0.828\n",
      "    ├ Alpha: \t\t\t\t\t\t  0.100\n",
      "    └ Testquantity: \t\t\t\t  0.698 < 0.828 < 1.346\n",
      " - Residuals:\n",
      "    ├ SSE (vTv):                0.000\n",
      "    ├ MSE:                      0.000\n",
      "    ├ RMSE:                     0.001\n",
      "    ├ WSSE (vTPv):              0.000\n",
      "    ├ WMSE:                     0.000\n",
      "    └ WRMSE:                    0.000\n",
      "\n",
      "======================================================\n",
      "\n",
      "\n",
      "======================================================\n",
      " Paramters\n",
      "======================================================\n",
      " - Parameter Estimates ± σ:\n",
      "    ├   bx:       -0.009 ±    0.001\n",
      "    ├   by:       -0.001 ±    0.001\n",
      "    ├   bz:        0.017 ±    0.001\n",
      "    ├   sx:        1.000 ±    0.000\n",
      "    ├   sy:        1.000 ±    0.000\n",
      "    ├   sz:        1.000 ±    0.000\n",
      "    ├   ax:        0.000 ±    0.000\n",
      "    ├   ay:        0.000 ±    0.000\n",
      "    ├   az:        0.000 ±    0.000\n",
      "    ├   mx:       -0.000 ±    0.000\n",
      "    ├   my:        0.000 ±    0.000\n",
      "    └   mz:        0.000 ±    0.000\n",
      "\n",
      "======================================================\n",
      "\n"
     ]
    }
   ],
   "source": [
    "imu_result.model.print_summary()\n",
    "imu_result.parameters.print(print_correlation=False)"
   ]
  },
  {
   "cell_type": "code",
   "execution_count": 37,
   "metadata": {},
   "outputs": [],
   "source": [
    "x_sym, l_sym = imu_config.get_syms()\n",
    "imu_result.parameters.set_params_config(tuple(x_sym),\n",
    "                                    ['mm/s^2', 'mm/s^2', 'mm/s^2', 'ppm', 'ppm', 'ppm', 'mgon', 'mgon', 'mgon',\n",
    "                                     'mgon', 'mgon', 'mgon'],\n",
    "                                    ['bx', 'by', 'bz', 'sx', 'sy', 'sz', 'ax', 'ay', 'az', 'mx', 'my', 'mz'],\n",
    "                                    cxs=[lambda x: x * 1000] * 3 + [\n",
    "                                        (lambda x: (x - 1) * 1e6, lambda x: x * 1e6)] * 3 + [\n",
    "                                            lambda x: x / pi * 200 * 1e3] * 6,\n",
    "                                    formats=['.2f'] * 3 + ['.1f'] * 3 + ['.1f'] * 6)\n",
    "\n",
    "imu_result.observations.set_obs_config(l_sym,\n",
    "                                   ['mm/s^2'] * 3 + ['mgon'] * 2,\n",
    "                                   ['f_x', 'f_y', 'f_z', 'ro', 'pi'],\n",
    "                                   cxs=[lambda x: x * 1e3] * 3 + [lambda x: x / pi * 200 * 1e3] * 2,\n",
    "                                   formats=['.2f'] * 3 + ['.1f'] * 3,\n",
    "                                   groups=['IMU Accelerations'] * 3 + ['Rob Angles'] * 2)"
   ]
  },
  {
   "cell_type": "code",
   "execution_count": 38,
   "metadata": {},
   "outputs": [
    {
     "name": "stdout",
     "output_type": "stream",
     "text": [
      "\n",
      "======================================================\n",
      " Result Summary \n",
      "======================================================\n",
      " - Convergence: \t\t\t\t  [ OK]\n",
      "    ├ # Iterations: \t\t\t     4\n",
      "    └ Criterium: \t\t\t\t\t  1.000e-12\n",
      " - Hauptprobe: \t\t\t\t  [ OK]\n",
      "    └ Max Eps: \t\t\t\t\t  1.776e-15\n",
      " - Globaltest: \t\t\t\t  [ OK]\n",
      "    ├ Test: \t\t\t\t\t\t  eq \n",
      "    ├ Var Prio: \t\t\t\t\t  0.000\n",
      "    ├ Var Post: \t\t\t\t\t  0.000\n",
      "    ├ Ratio:    \t\t\t\t\t  0.828\n",
      "    ├ Alpha: \t\t\t\t\t\t  0.100\n",
      "    └ Testquantity: \t\t\t\t  0.698 < 0.828 < 1.346\n",
      " - Residuals:\n",
      "    ├ SSE (vTv):                0.000\n",
      "    ├ MSE:                      0.000\n",
      "    ├ RMSE:                     0.001\n",
      "    ├ WSSE (vTPv):              0.000\n",
      "    ├ WMSE:                     0.000\n",
      "    └ WRMSE:                    0.000\n",
      "\n",
      "======================================================\n",
      "\n",
      "\n",
      "======================================================\n",
      " Paramters\n",
      "======================================================\n",
      " - Parameter Estimates ± σ:\n",
      "    ├   bx:        -8.56 ±     1.00   [mm/s^2]\n",
      "    ├   by:        -1.09 ±     0.83   [mm/s^2]\n",
      "    ├   bz:        16.57 ±     0.81   [mm/s^2]\n",
      "    ├   sx:       -273.6 ±    190.4   [ppm]\n",
      "    ├   sy:        233.6 ±    117.2   [ppm]\n",
      "    ├   sz:         10.2 ±    109.4   [ppm]\n",
      "    ├   ax:         26.4 ±     10.5   [mgon]\n",
      "    ├   ay:          0.7 ±     11.2   [mgon]\n",
      "    ├   az:         10.9 ±     11.7   [mgon]\n",
      "    ├   mx:        -16.6 ±     10.9   [mgon]\n",
      "    ├   my:         25.0 ±     13.6   [mgon]\n",
      "    └   mz:         26.8 ±     13.6   [mgon]\n",
      "\n",
      "======================================================\n",
      "\n"
     ]
    }
   ],
   "source": [
    "imu_result.model.print_summary()\n",
    "imu_result.parameters.print(print_correlation=False)"
   ]
  }
 ],
 "metadata": {
  "kernelspec": {
   "display_name": "Python 3",
   "language": "python",
   "name": "python3"
  },
  "language_info": {
   "codemirror_mode": {
    "name": "ipython",
    "version": 3
   },
   "file_extension": ".py",
   "mimetype": "text/x-python",
   "name": "python",
   "nbconvert_exporter": "python",
   "pygments_lexer": "ipython3",
   "version": "3.6.7"
  }
 },
 "nbformat": 4,
 "nbformat_minor": 2
}
